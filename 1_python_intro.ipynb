{
 "cells": [
  {
   "cell_type": "markdown",
   "metadata": {},
   "source": [
    "# Lesson 1: Python overview\n",
    "The vast majority of NLP is conducted in Python. Package support for NLP in Python is far superior to most other languages, and it's relatively easy to learn when you're coming from other object-oriented languages like R or Java.\n",
    "\n",
    "However, there are a few roadblocks to overcome."
   ]
  },
  {
   "cell_type": "markdown",
   "metadata": {},
   "source": [
    "## Tools for developing in Python\n",
    "### Running Python\n",
    "Complete Python scripts (in the format of `.py` files) are often run through the terminal. For instance, to run `my_script.py`, you'd navigate to the correct working directory, then type `python my_script.py`. \n",
    "\n",
    "This isn't efficient when you're developing your code, though. For that, we have two options:\n",
    "1. **Notebooks**: Jupyter notebooks are the most common notebook format and are designed to run code in **Ju**lia, **Pyt**hon, and/or **R**. You write the code in blocks, each one of which is run separately, and it allows you to intersperse text with code to generate reports or interactive documents. You're using a Jupyter notebook now! Other notebook environments for Python are [Quarto](https://quarto.org) and [Marimo](https://marimo.io), both of which have unique advantages and disadvantages over Jupyter notebooks. \n",
    "2. **REPL (Read-Eval-Print Loop)**: This is an isolated environment that allows you to run code line-by-line. You can do most things in REPL that you can in a notebook environment, but it doesn't have the nice readability and interactivity features that they have.\n",
    "### Writing Python\n",
    "To write in Python, you can use a Colab environment like we're doing now or a notebook environment hosted on another service (like Google's Vertex AI Workbench). But if you want to code on your local machine or if you're working with sensitive data, you'll need an **I**ntegrated **D**evelopment **E**nvironment (IDE). This is a software tool that combines a text editor for coding, a terminal window for environment/package management, a file manager, and several other tools that make development easier. Increasingly, these include AI assistants.\n",
    "\n",
    "My preferred IDE is [Cursor](https://www.cursor.com/), which includes autocomplete and LLM-assisted chat features (though be careful if you're working with restricted data). If you don't need or want the AI features, you can use [VSCode](https://code.visualstudio.com/).\n"
   ]
  },
  {
   "cell_type": "markdown",
   "metadata": {},
   "source": []
  }
 ],
 "metadata": {
  "language_info": {
   "name": "python"
  }
 },
 "nbformat": 4,
 "nbformat_minor": 2
}
